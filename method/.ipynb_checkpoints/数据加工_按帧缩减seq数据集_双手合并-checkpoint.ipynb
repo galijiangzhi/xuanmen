{
 "cells": [
  {
   "cell_type": "code",
   "execution_count": 5,
   "id": "397edeb8-0981-49af-90be-57c0ab67b84c",
   "metadata": {
    "tags": []
   },
   "outputs": [],
   "source": [
    "import os\n",
    "import numpy as np"
   ]
  },
  {
   "cell_type": "code",
   "execution_count": 39,
   "id": "2e8b7eac-4bea-4859-b825-95a3b218128d",
   "metadata": {
    "tags": []
   },
   "outputs": [],
   "source": [
    "seq_folder = '../SLR_dataset/kmeans_40_seq/'\n",
    "save_folder = '../SLR_dataset/kmeans_40_seq_frame5/'\n",
    "\n",
    "frame = 5"
   ]
  },
  {
   "cell_type": "code",
   "execution_count": 40,
   "id": "3f92e979-24f5-41f0-981b-959dc816aece",
   "metadata": {
    "tags": []
   },
   "outputs": [
    {
     "name": "stdout",
     "output_type": "stream",
     "text": [
      "目录已创建：../SLR_dataset/kmeans_40_seq_frame5/\n",
      "../SLR_dataset/kmeans_40_seq_frame5/000000.npy\n",
      "../SLR_dataset/kmeans_40_seq_frame5/000001.npy\n",
      "../SLR_dataset/kmeans_40_seq_frame5/000002.npy\n",
      "../SLR_dataset/kmeans_40_seq_frame5/000003.npy\n",
      "../SLR_dataset/kmeans_40_seq_frame5/000004.npy\n",
      "../SLR_dataset/kmeans_40_seq_frame5/000005.npy\n",
      "../SLR_dataset/kmeans_40_seq_frame5/000006.npy\n",
      "../SLR_dataset/kmeans_40_seq_frame5/000007.npy\n",
      "../SLR_dataset/kmeans_40_seq_frame5/000008.npy\n",
      "../SLR_dataset/kmeans_40_seq_frame5/000009.npy\n",
      "../SLR_dataset/kmeans_40_seq_frame5/000010.npy\n",
      "../SLR_dataset/kmeans_40_seq_frame5/000011.npy\n",
      "../SLR_dataset/kmeans_40_seq_frame5/000012.npy\n",
      "../SLR_dataset/kmeans_40_seq_frame5/000013.npy\n",
      "../SLR_dataset/kmeans_40_seq_frame5/000014.npy\n",
      "../SLR_dataset/kmeans_40_seq_frame5/000015.npy\n",
      "../SLR_dataset/kmeans_40_seq_frame5/000016.npy\n",
      "../SLR_dataset/kmeans_40_seq_frame5/000017.npy\n",
      "../SLR_dataset/kmeans_40_seq_frame5/000018.npy\n",
      "../SLR_dataset/kmeans_40_seq_frame5/000019.npy\n",
      "../SLR_dataset/kmeans_40_seq_frame5/000020.npy\n",
      "../SLR_dataset/kmeans_40_seq_frame5/000021.npy\n",
      "../SLR_dataset/kmeans_40_seq_frame5/000022.npy\n",
      "../SLR_dataset/kmeans_40_seq_frame5/000023.npy\n",
      "../SLR_dataset/kmeans_40_seq_frame5/000024.npy\n",
      "../SLR_dataset/kmeans_40_seq_frame5/000025.npy\n",
      "../SLR_dataset/kmeans_40_seq_frame5/000026.npy\n",
      "../SLR_dataset/kmeans_40_seq_frame5/000027.npy\n",
      "../SLR_dataset/kmeans_40_seq_frame5/000028.npy\n",
      "../SLR_dataset/kmeans_40_seq_frame5/000029.npy\n",
      "../SLR_dataset/kmeans_40_seq_frame5/000030.npy\n",
      "../SLR_dataset/kmeans_40_seq_frame5/000031.npy\n",
      "../SLR_dataset/kmeans_40_seq_frame5/000032.npy\n",
      "../SLR_dataset/kmeans_40_seq_frame5/000033.npy\n",
      "../SLR_dataset/kmeans_40_seq_frame5/000034.npy\n",
      "../SLR_dataset/kmeans_40_seq_frame5/000035.npy\n",
      "../SLR_dataset/kmeans_40_seq_frame5/000036.npy\n",
      "../SLR_dataset/kmeans_40_seq_frame5/000037.npy\n",
      "../SLR_dataset/kmeans_40_seq_frame5/000038.npy\n",
      "../SLR_dataset/kmeans_40_seq_frame5/000039.npy\n",
      "../SLR_dataset/kmeans_40_seq_frame5/000040.npy\n",
      "../SLR_dataset/kmeans_40_seq_frame5/000041.npy\n",
      "../SLR_dataset/kmeans_40_seq_frame5/000042.npy\n",
      "../SLR_dataset/kmeans_40_seq_frame5/000043.npy\n",
      "../SLR_dataset/kmeans_40_seq_frame5/000044.npy\n",
      "../SLR_dataset/kmeans_40_seq_frame5/000045.npy\n",
      "../SLR_dataset/kmeans_40_seq_frame5/000046.npy\n",
      "../SLR_dataset/kmeans_40_seq_frame5/000047.npy\n",
      "../SLR_dataset/kmeans_40_seq_frame5/000048.npy\n",
      "../SLR_dataset/kmeans_40_seq_frame5/000049.npy\n",
      "../SLR_dataset/kmeans_40_seq_frame5/000050.npy\n",
      "../SLR_dataset/kmeans_40_seq_frame5/000051.npy\n",
      "../SLR_dataset/kmeans_40_seq_frame5/000052.npy\n",
      "../SLR_dataset/kmeans_40_seq_frame5/000053.npy\n",
      "../SLR_dataset/kmeans_40_seq_frame5/000054.npy\n",
      "../SLR_dataset/kmeans_40_seq_frame5/000055.npy\n",
      "../SLR_dataset/kmeans_40_seq_frame5/000056.npy\n",
      "../SLR_dataset/kmeans_40_seq_frame5/000057.npy\n",
      "../SLR_dataset/kmeans_40_seq_frame5/000058.npy\n",
      "../SLR_dataset/kmeans_40_seq_frame5/000059.npy\n",
      "../SLR_dataset/kmeans_40_seq_frame5/000060.npy\n",
      "../SLR_dataset/kmeans_40_seq_frame5/000061.npy\n",
      "../SLR_dataset/kmeans_40_seq_frame5/000062.npy\n",
      "../SLR_dataset/kmeans_40_seq_frame5/000063.npy\n",
      "../SLR_dataset/kmeans_40_seq_frame5/000064.npy\n",
      "../SLR_dataset/kmeans_40_seq_frame5/000065.npy\n",
      "../SLR_dataset/kmeans_40_seq_frame5/000066.npy\n",
      "../SLR_dataset/kmeans_40_seq_frame5/000067.npy\n",
      "../SLR_dataset/kmeans_40_seq_frame5/000068.npy\n",
      "../SLR_dataset/kmeans_40_seq_frame5/000069.npy\n",
      "../SLR_dataset/kmeans_40_seq_frame5/000070.npy\n",
      "../SLR_dataset/kmeans_40_seq_frame5/000071.npy\n",
      "../SLR_dataset/kmeans_40_seq_frame5/000072.npy\n",
      "../SLR_dataset/kmeans_40_seq_frame5/000073.npy\n",
      "../SLR_dataset/kmeans_40_seq_frame5/000074.npy\n",
      "../SLR_dataset/kmeans_40_seq_frame5/000075.npy\n",
      "../SLR_dataset/kmeans_40_seq_frame5/000076.npy\n",
      "../SLR_dataset/kmeans_40_seq_frame5/000077.npy\n",
      "../SLR_dataset/kmeans_40_seq_frame5/000078.npy\n",
      "../SLR_dataset/kmeans_40_seq_frame5/000079.npy\n",
      "../SLR_dataset/kmeans_40_seq_frame5/000080.npy\n",
      "../SLR_dataset/kmeans_40_seq_frame5/000081.npy\n",
      "../SLR_dataset/kmeans_40_seq_frame5/000082.npy\n",
      "../SLR_dataset/kmeans_40_seq_frame5/000083.npy\n",
      "../SLR_dataset/kmeans_40_seq_frame5/000084.npy\n",
      "../SLR_dataset/kmeans_40_seq_frame5/000085.npy\n",
      "../SLR_dataset/kmeans_40_seq_frame5/000086.npy\n",
      "../SLR_dataset/kmeans_40_seq_frame5/000087.npy\n",
      "../SLR_dataset/kmeans_40_seq_frame5/000088.npy\n",
      "../SLR_dataset/kmeans_40_seq_frame5/000089.npy\n",
      "../SLR_dataset/kmeans_40_seq_frame5/000090.npy\n",
      "../SLR_dataset/kmeans_40_seq_frame5/000091.npy\n",
      "../SLR_dataset/kmeans_40_seq_frame5/000092.npy\n",
      "../SLR_dataset/kmeans_40_seq_frame5/000093.npy\n",
      "../SLR_dataset/kmeans_40_seq_frame5/000094.npy\n",
      "../SLR_dataset/kmeans_40_seq_frame5/000095.npy\n",
      "../SLR_dataset/kmeans_40_seq_frame5/000096.npy\n",
      "../SLR_dataset/kmeans_40_seq_frame5/000097.npy\n",
      "../SLR_dataset/kmeans_40_seq_frame5/000098.npy\n",
      "../SLR_dataset/kmeans_40_seq_frame5/000099.npy\n"
     ]
    }
   ],
   "source": [
    "if not os.path.exists(save_folder):\n",
    "    os.makedirs(save_folder)\n",
    "    print(f\"目录已创建：{save_folder}\")\n",
    "else:\n",
    "    print(f\"目录已存在：{save_folder}\")\n",
    "    \n",
    "for j in nplist:\n",
    "    data  = np.load(os.path.join(seq_folder,j),allow_pickle=True)\n",
    "    all_data = []\n",
    "    for i in data:\n",
    "        mask = np.zeros(len(i), dtype=bool)\n",
    "        mask[np.arange(len(i)) % (frame*2) < 2] = True  # 每8个位置中前2个为True\n",
    "        all_data.append(i[mask])\n",
    "    npdata = np.array(all_data,dtype=object)\n",
    "    np.save(os.path.join(save_folder,j), npdata, allow_pickle=True)\n",
    "    print(os.path.join(save_folder,j))"
   ]
  },
  {
   "cell_type": "code",
   "execution_count": null,
   "id": "1038cf7a-fddf-4966-8cb2-a94d2bf7ce33",
   "metadata": {},
   "outputs": [],
   "source": []
  }
 ],
 "metadata": {
  "kernelspec": {
   "display_name": "Python 3 (ipykernel)",
   "language": "python",
   "name": "python3"
  },
  "language_info": {
   "codemirror_mode": {
    "name": "ipython",
    "version": 3
   },
   "file_extension": ".py",
   "mimetype": "text/x-python",
   "name": "python",
   "nbconvert_exporter": "python",
   "pygments_lexer": "ipython3",
   "version": "3.10.11"
  }
 },
 "nbformat": 4,
 "nbformat_minor": 5
}

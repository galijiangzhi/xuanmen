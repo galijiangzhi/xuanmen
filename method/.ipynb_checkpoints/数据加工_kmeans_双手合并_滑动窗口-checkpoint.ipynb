{
 "cells": [
  {
   "cell_type": "code",
   "execution_count": 1,
   "id": "1082ba75-937f-42f7-a67f-1eb343329e7e",
   "metadata": {
    "tags": []
   },
   "outputs": [],
   "source": [
    "import os\n",
    "import numpy as np\n",
    "import matplotlib.pyplot as plt\n",
    "from joblib import load\n"
   ]
  },
  {
   "cell_type": "code",
   "execution_count": 5,
   "id": "a351e3ad-10b9-4294-8815-45653c7514c8",
   "metadata": {
    "tags": []
   },
   "outputs": [],
   "source": [
    "#参数列表\n",
    "kmeans_loaded = load('../model/kmeans/kmeans_100.joblib') #分类文件夹根目录\n",
    "all_path = '../SLR_dataset/seq_txt/'\n",
    "save_path = '../SLR_dataset/kmeans_100_seq/'\n",
    "all_folder = [i for i in os.listdir(all_path)]"
   ]
  },
  {
   "cell_type": "code",
   "execution_count": 6,
   "id": "fb3ecf74-a236-48f7-a8cf-fdcf21379941",
   "metadata": {
    "tags": []
   },
   "outputs": [
    {
     "name": "stdout",
     "output_type": "stream",
     "text": [
      "目录已创建：../SLR_dataset/kmeans_100_seq/\n"
     ]
    }
   ],
   "source": [
    "# 检查路径是否存在，不存在则创建（包括父目录）\n",
    "if not os.path.exists(save_path):\n",
    "    os.makedirs(save_path)\n",
    "    print(f\"目录已创建：{save_path}\")\n",
    "else:\n",
    "    print(f\"目录已存在：{save_path}\")\n",
    "def left_right_hand(data):\n",
    "    left = data[0:63]\n",
    "    right = data [63:]\n",
    "    return left,right\n",
    "def list_proLR(data):\n",
    "    #该函数用于将读取到的数据变成左右手格式\n",
    "    result = []\n",
    "    for i in data:\n",
    "        left,right = left_right_hand(i)\n",
    "        result+=[left,right]\n",
    "    return result"
   ]
  },
  {
   "cell_type": "code",
   "execution_count": 7,
   "id": "8a90a5de-df03-491f-97d9-148d997e2a81",
   "metadata": {
    "tags": []
   },
   "outputs": [
    {
     "name": "stdout",
     "output_type": "stream",
     "text": [
      "../SLR_dataset/kmeans_100_seq/000000.npy\n",
      "../SLR_dataset/kmeans_100_seq/000001.npy\n",
      "../SLR_dataset/kmeans_100_seq/000002.npy\n",
      "../SLR_dataset/kmeans_100_seq/000003.npy\n",
      "../SLR_dataset/kmeans_100_seq/000004.npy\n",
      "../SLR_dataset/kmeans_100_seq/000005.npy\n",
      "../SLR_dataset/kmeans_100_seq/000006.npy\n",
      "../SLR_dataset/kmeans_100_seq/000007.npy\n",
      "../SLR_dataset/kmeans_100_seq/000008.npy\n",
      "../SLR_dataset/kmeans_100_seq/000009.npy\n",
      "../SLR_dataset/kmeans_100_seq/000010.npy\n",
      "../SLR_dataset/kmeans_100_seq/000011.npy\n",
      "../SLR_dataset/kmeans_100_seq/000012.npy\n",
      "../SLR_dataset/kmeans_100_seq/000013.npy\n",
      "../SLR_dataset/kmeans_100_seq/000014.npy\n",
      "../SLR_dataset/kmeans_100_seq/000015.npy\n",
      "../SLR_dataset/kmeans_100_seq/000016.npy\n",
      "../SLR_dataset/kmeans_100_seq/000017.npy\n",
      "../SLR_dataset/kmeans_100_seq/000018.npy\n",
      "../SLR_dataset/kmeans_100_seq/000019.npy\n",
      "../SLR_dataset/kmeans_100_seq/000020.npy\n",
      "../SLR_dataset/kmeans_100_seq/000021.npy\n",
      "../SLR_dataset/kmeans_100_seq/000022.npy\n",
      "../SLR_dataset/kmeans_100_seq/000023.npy\n",
      "../SLR_dataset/kmeans_100_seq/000024.npy\n",
      "../SLR_dataset/kmeans_100_seq/000025.npy\n",
      "../SLR_dataset/kmeans_100_seq/000026.npy\n",
      "../SLR_dataset/kmeans_100_seq/000027.npy\n",
      "../SLR_dataset/kmeans_100_seq/000028.npy\n",
      "../SLR_dataset/kmeans_100_seq/000029.npy\n",
      "../SLR_dataset/kmeans_100_seq/000030.npy\n",
      "../SLR_dataset/kmeans_100_seq/000031.npy\n",
      "../SLR_dataset/kmeans_100_seq/000032.npy\n",
      "../SLR_dataset/kmeans_100_seq/000033.npy\n",
      "../SLR_dataset/kmeans_100_seq/000034.npy\n",
      "../SLR_dataset/kmeans_100_seq/000035.npy\n",
      "../SLR_dataset/kmeans_100_seq/000036.npy\n",
      "../SLR_dataset/kmeans_100_seq/000037.npy\n",
      "../SLR_dataset/kmeans_100_seq/000038.npy\n",
      "../SLR_dataset/kmeans_100_seq/000039.npy\n",
      "../SLR_dataset/kmeans_100_seq/000040.npy\n",
      "../SLR_dataset/kmeans_100_seq/000041.npy\n",
      "../SLR_dataset/kmeans_100_seq/000042.npy\n",
      "../SLR_dataset/kmeans_100_seq/000043.npy\n",
      "../SLR_dataset/kmeans_100_seq/000044.npy\n",
      "../SLR_dataset/kmeans_100_seq/000045.npy\n",
      "../SLR_dataset/kmeans_100_seq/000046.npy\n",
      "../SLR_dataset/kmeans_100_seq/000047.npy\n",
      "../SLR_dataset/kmeans_100_seq/000048.npy\n",
      "../SLR_dataset/kmeans_100_seq/000049.npy\n",
      "../SLR_dataset/kmeans_100_seq/000050.npy\n",
      "../SLR_dataset/kmeans_100_seq/000051.npy\n",
      "../SLR_dataset/kmeans_100_seq/000052.npy\n",
      "../SLR_dataset/kmeans_100_seq/000053.npy\n",
      "../SLR_dataset/kmeans_100_seq/000054.npy\n",
      "../SLR_dataset/kmeans_100_seq/000055.npy\n",
      "../SLR_dataset/kmeans_100_seq/000056.npy\n",
      "../SLR_dataset/kmeans_100_seq/000057.npy\n",
      "../SLR_dataset/kmeans_100_seq/000058.npy\n",
      "../SLR_dataset/kmeans_100_seq/000059.npy\n",
      "../SLR_dataset/kmeans_100_seq/000060.npy\n",
      "../SLR_dataset/kmeans_100_seq/000061.npy\n",
      "../SLR_dataset/kmeans_100_seq/000062.npy\n",
      "../SLR_dataset/kmeans_100_seq/000063.npy\n",
      "../SLR_dataset/kmeans_100_seq/000064.npy\n",
      "../SLR_dataset/kmeans_100_seq/000065.npy\n",
      "../SLR_dataset/kmeans_100_seq/000066.npy\n",
      "../SLR_dataset/kmeans_100_seq/000067.npy\n",
      "../SLR_dataset/kmeans_100_seq/000068.npy\n",
      "../SLR_dataset/kmeans_100_seq/000069.npy\n",
      "../SLR_dataset/kmeans_100_seq/000070.npy\n",
      "../SLR_dataset/kmeans_100_seq/000071.npy\n",
      "../SLR_dataset/kmeans_100_seq/000072.npy\n",
      "../SLR_dataset/kmeans_100_seq/000073.npy\n",
      "../SLR_dataset/kmeans_100_seq/000074.npy\n",
      "../SLR_dataset/kmeans_100_seq/000075.npy\n",
      "../SLR_dataset/kmeans_100_seq/000076.npy\n",
      "../SLR_dataset/kmeans_100_seq/000077.npy\n",
      "../SLR_dataset/kmeans_100_seq/000078.npy\n",
      "../SLR_dataset/kmeans_100_seq/000079.npy\n",
      "../SLR_dataset/kmeans_100_seq/000080.npy\n",
      "../SLR_dataset/kmeans_100_seq/000081.npy\n",
      "../SLR_dataset/kmeans_100_seq/000082.npy\n",
      "../SLR_dataset/kmeans_100_seq/000083.npy\n",
      "../SLR_dataset/kmeans_100_seq/000084.npy\n",
      "../SLR_dataset/kmeans_100_seq/000085.npy\n",
      "../SLR_dataset/kmeans_100_seq/000086.npy\n",
      "../SLR_dataset/kmeans_100_seq/000087.npy\n",
      "../SLR_dataset/kmeans_100_seq/000088.npy\n",
      "../SLR_dataset/kmeans_100_seq/000089.npy\n",
      "../SLR_dataset/kmeans_100_seq/000090.npy\n",
      "../SLR_dataset/kmeans_100_seq/000091.npy\n",
      "../SLR_dataset/kmeans_100_seq/000092.npy\n",
      "../SLR_dataset/kmeans_100_seq/000093.npy\n",
      "../SLR_dataset/kmeans_100_seq/000094.npy\n",
      "../SLR_dataset/kmeans_100_seq/000095.npy\n",
      "../SLR_dataset/kmeans_100_seq/000096.npy\n",
      "../SLR_dataset/kmeans_100_seq/000097.npy\n",
      "../SLR_dataset/kmeans_100_seq/000098.npy\n",
      "../SLR_dataset/kmeans_100_seq/000099.npy\n"
     ]
    }
   ],
   "source": [
    "for i in all_folder:\n",
    "    all_new_labels = []\n",
    "    folder = os.path.join(all_path,i)\n",
    "    file_name = [file for file in os.listdir(folder) if file.endswith('.avi')]\n",
    "    for j in file_name:\n",
    "        file_path = os.path.join(folder,j)\n",
    "        datalist = []\n",
    "        with open(file_path, 'r') as file:  # 以读取模式打开文件\n",
    "            for line in file:       # 逐行读取文件内容\n",
    "                # 按空格分割每一行，并将每个部分转换为浮点型\n",
    "                float_values = [float(x) for x in line.split()]\n",
    "                datalist.append(float_values)  # 将转换后的浮点型列表添加到 datalist\n",
    "        datalist = list_proLR(datalist)\n",
    "        new_labels = kmeans_loaded.predict(datalist)\n",
    "        all_new_labels.append(new_labels)\n",
    "    save_file_name = os.path.join(save_path,i)+'.npy'\n",
    "    save_data = np.array(all_new_labels,dtype=object)\n",
    "    # print(save_data)\n",
    "    np.save(save_file_name,save_data)\n",
    "    print(save_file_name)"
   ]
  },
  {
   "cell_type": "code",
   "execution_count": null,
   "id": "89eb0079-c96e-4e02-ac2f-941d29a21a4b",
   "metadata": {},
   "outputs": [],
   "source": []
  },
  {
   "cell_type": "code",
   "execution_count": null,
   "id": "9bc03450-e0d8-4215-b1a2-c8ca489457ed",
   "metadata": {},
   "outputs": [],
   "source": []
  },
  {
   "cell_type": "code",
   "execution_count": null,
   "id": "900b2b82-f724-440e-8940-363c6405805f",
   "metadata": {},
   "outputs": [],
   "source": [
    "datalist = []\n",
    "with open(data, 'r') as file:  # 以读取模式打开文件\n",
    "    for line in file:       # 逐行读取文件内容\n",
    "        # 按空格分割每一行，并将每个部分转换为浮点型\n",
    "        float_values = [float(x) for x in line.split()]\n",
    "        datalist.append(float_values)  # 将转换后的浮点型列表添加到 datalist"
   ]
  },
  {
   "cell_type": "code",
   "execution_count": null,
   "id": "311ad512-06b9-42a4-875a-af99091640dc",
   "metadata": {},
   "outputs": [],
   "source": []
  },
  {
   "cell_type": "code",
   "execution_count": 2,
   "id": "1fc61e77-335a-475a-80b6-d295acf2f584",
   "metadata": {
    "tags": []
   },
   "outputs": [],
   "source": [
    "all_path = '../SLR_adataset/seq_txt/'"
   ]
  },
  {
   "cell_type": "code",
   "execution_count": 3,
   "id": "6066aa65-aa82-4997-b3f3-686dc849d1bf",
   "metadata": {
    "tags": []
   },
   "outputs": [],
   "source": [
    "folder_path = '../SLR_dataset/seq_txt/000000/'"
   ]
  },
  {
   "cell_type": "code",
   "execution_count": 4,
   "id": "16b115c4-c548-4e8d-918f-376effa44cb0",
   "metadata": {
    "tags": []
   },
   "outputs": [],
   "source": [
    "txt_path = os.listdir('../SLR_dataset/seq_txt/000000/')"
   ]
  },
  {
   "cell_type": "code",
   "execution_count": 5,
   "id": "400634e7-ef0b-4bb1-a4ec-2cc494bb933e",
   "metadata": {
    "tags": []
   },
   "outputs": [],
   "source": [
    "data = folder_path + txt_path[1]"
   ]
  },
  {
   "cell_type": "code",
   "execution_count": 6,
   "id": "061ae895-08dd-4a29-ad97-3020a899850a",
   "metadata": {
    "tags": []
   },
   "outputs": [
    {
     "data": {
      "text/plain": [
       "'../SLR_dataset/seq_txt/000000/P01_s1_00_0_color.avi'"
      ]
     },
     "execution_count": 6,
     "metadata": {},
     "output_type": "execute_result"
    }
   ],
   "source": [
    "data"
   ]
  },
  {
   "cell_type": "code",
   "execution_count": 7,
   "id": "cc2d411c-206e-4c4c-9252-9b8d52398a40",
   "metadata": {
    "tags": []
   },
   "outputs": [],
   "source": [
    "datalist = []\n",
    "with open(data, 'r') as file:  # 以读取模式打开文件\n",
    "    for line in file:       # 逐行读取文件内容\n",
    "        # 按空格分割每一行，并将每个部分转换为浮点型\n",
    "        float_values = [float(x) for x in line.split()]\n",
    "        datalist.append(float_values)  # 将转换后的浮点型列表添加到 datalist"
   ]
  },
  {
   "cell_type": "code",
   "execution_count": 8,
   "id": "5f5cb4a2-d9a8-45e3-aab2-b9e02d7b845b",
   "metadata": {
    "tags": []
   },
   "outputs": [],
   "source": []
  },
  {
   "cell_type": "code",
   "execution_count": 9,
   "id": "1fce7024-75e5-4e3f-a02f-1d86b2221919",
   "metadata": {
    "tags": []
   },
   "outputs": [],
   "source": []
  },
  {
   "cell_type": "code",
   "execution_count": 11,
   "id": "3427deb7-1d22-4091-b30f-cda70e0f10e1",
   "metadata": {
    "tags": []
   },
   "outputs": [],
   "source": [
    "a = list_proLR(datalist)"
   ]
  },
  {
   "cell_type": "code",
   "execution_count": 12,
   "id": "28ca2c1d-ef74-40dc-bae0-a32e24565801",
   "metadata": {
    "tags": []
   },
   "outputs": [
    {
     "data": {
      "text/plain": [
       "424"
      ]
     },
     "execution_count": 12,
     "metadata": {},
     "output_type": "execute_result"
    }
   ],
   "source": [
    "len(a)"
   ]
  },
  {
   "cell_type": "code",
   "execution_count": 13,
   "id": "0ea65847-d6bc-46c1-971c-7de8d23f3163",
   "metadata": {
    "tags": []
   },
   "outputs": [],
   "source": [
    "a = np.array(a)"
   ]
  },
  {
   "cell_type": "code",
   "execution_count": 14,
   "id": "62a796be-04f8-423a-8555-8d45daa0d770",
   "metadata": {
    "tags": []
   },
   "outputs": [
    {
     "data": {
      "text/plain": [
       "(424, 63)"
      ]
     },
     "execution_count": 14,
     "metadata": {},
     "output_type": "execute_result"
    }
   ],
   "source": [
    "a.shape"
   ]
  },
  {
   "cell_type": "code",
   "execution_count": 15,
   "id": "689687f5-899f-409e-a4b1-59e6270d8882",
   "metadata": {
    "tags": []
   },
   "outputs": [],
   "source": []
  },
  {
   "cell_type": "code",
   "execution_count": 16,
   "id": "7831b36a-b158-4e7f-a1d1-90a64b1cee23",
   "metadata": {
    "tags": []
   },
   "outputs": [],
   "source": [
    "new_labels = kmeans_loaded.predict(a)"
   ]
  },
  {
   "cell_type": "code",
   "execution_count": 17,
   "id": "ccdb9629-31e9-4939-bbd7-fd6dd660bb73",
   "metadata": {
    "tags": []
   },
   "outputs": [
    {
     "data": {
      "text/plain": [
       "array([ 2,  2,  4,  2,  4,  2,  4,  2,  4,  2,  4,  2,  4,  2,  4,  2,  4,\n",
       "        2,  4,  2,  4,  2,  4,  2,  4,  2,  4,  2,  4,  2,  4,  2,  4,  2,\n",
       "        4,  2,  4,  2,  4,  2,  4,  2,  4,  2,  4,  2,  4,  2,  4,  2,  4,\n",
       "        2,  4,  2,  4,  4,  2,  2,  2,  2,  6,  2,  0,  4,  2,  2,  2,  2,\n",
       "        2,  2, 16,  2, 13,  2, 13,  2, 13,  2, 16,  2, 16, 16, 16,  2, 16,\n",
       "       13, 13,  2, 16, 13, 13,  2, 16, 13, 13,  2, 16, 13, 13,  2, 16, 13,\n",
       "       13,  2, 16, 13, 13,  2, 13,  2, 13,  2, 13,  2, 13,  2,  3, 13, 16,\n",
       "       13, 16, 13, 13, 13, 13,  5,  5,  2,  5,  2, 13,  5, 13,  5,  5,  2,\n",
       "        3,  2, 13,  9, 13,  2, 13,  2, 13,  2, 16, 12, 12,  2, 12,  2, 12,\n",
       "        2, 12, 12, 12,  2, 16, 12, 12,  2,  3, 13, 13,  2, 13, 13, 13,  2,\n",
       "       16,  2, 12,  2,  2,  2,  2,  2,  2,  2,  2,  2,  2,  2,  2,  2,  2,\n",
       "        2,  2,  2,  2,  2,  2,  2,  2,  2,  2,  2,  2,  2,  2,  2,  2,  2,\n",
       "        2,  2,  2,  2,  1,  2,  1,  2, 18,  2, 18,  2, 18,  2, 18, 18, 18,\n",
       "        2, 12, 18, 16, 18, 16, 18, 16, 18, 16, 18, 16, 18, 16, 18, 16, 18,\n",
       "       16, 18, 16, 18, 16, 18, 16, 18, 16, 18, 16, 18, 16, 18, 16, 18, 16,\n",
       "       18, 16, 18, 16, 18, 16, 18, 16, 18, 12, 18, 12, 18, 17,  2, 17,  2,\n",
       "       19, 19, 19,  2,  1,  2,  1,  2, 16,  2, 16,  2, 16,  2, 16,  2, 16,\n",
       "        2, 16,  2, 16,  2, 13,  2, 13,  2, 13,  2, 13,  2, 13,  2,  5, 13,\n",
       "       13,  2, 13,  2, 13,  2, 13,  2, 13,  2, 13,  2, 13, 13, 12,  2, 13,\n",
       "       12, 12,  2, 12, 12, 12,  2, 12, 12, 12,  2, 12, 12, 12,  2, 12, 12,\n",
       "       12,  2, 12, 12,  2,  2,  2,  2,  2,  2, 12,  2, 12,  2, 12,  2, 12,\n",
       "        2, 12,  2, 12,  2, 12,  2, 12,  2, 12,  2, 12,  2, 12,  2, 12,  2,\n",
       "       12,  2, 12,  2, 12,  2, 12,  2, 12,  2, 12,  2, 12, 12, 12,  2, 12,\n",
       "       19,  2,  2,  2,  2,  2,  2,  2,  2,  2,  2,  2,  2,  2,  2,  2,  2,\n",
       "        2,  2,  2,  2,  2,  2,  2,  2,  2,  2,  2,  2,  2,  2,  2,  2],\n",
       "      dtype=int32)"
      ]
     },
     "execution_count": 17,
     "metadata": {},
     "output_type": "execute_result"
    }
   ],
   "source": [
    "new_labels"
   ]
  },
  {
   "cell_type": "code",
   "execution_count": 18,
   "id": "198f1799-4970-42de-b070-747827f672c2",
   "metadata": {
    "tags": []
   },
   "outputs": [],
   "source": [
    "import os\n",
    "import numpy as np\n",
    "import matplotlib.pyplot as plt\n",
    "from joblib import load"
   ]
  },
  {
   "cell_type": "code",
   "execution_count": 19,
   "id": "b4128598-084c-41db-aac8-871c4e2246be",
   "metadata": {
    "tags": []
   },
   "outputs": [],
   "source": [
    "def left_right_hand(data):\n",
    "    left = data[0:63]\n",
    "    right = data [63:]\n",
    "    return left,right"
   ]
  },
  {
   "cell_type": "code",
   "execution_count": 20,
   "id": "794e09b4-781a-4c0f-acd1-a6182b28c189",
   "metadata": {
    "tags": []
   },
   "outputs": [],
   "source": [
    "def list_proLR(data):\n",
    "    #该函数用于将读取到的数据变成左右手格式\n",
    "    result = []\n",
    "    for i in data:\n",
    "        left,right = left_right_hand(i)\n",
    "        result+=[left,right]\n",
    "    return result"
   ]
  },
  {
   "cell_type": "code",
   "execution_count": 21,
   "id": "61111b57-94a0-4a35-9e2b-7d401d9b36c3",
   "metadata": {
    "tags": []
   },
   "outputs": [],
   "source": []
  },
  {
   "cell_type": "code",
   "execution_count": 22,
   "id": "9e885db3-b632-4895-a9fc-77e685853ffd",
   "metadata": {
    "tags": []
   },
   "outputs": [],
   "source": [
    "kmeans_loaded = load('../model/kmeans/kmeans_20.joblib')"
   ]
  },
  {
   "cell_type": "code",
   "execution_count": null,
   "id": "5eadceee-43a4-4d06-ad4e-9bfbff31a88b",
   "metadata": {
    "tags": []
   },
   "outputs": [],
   "source": [
    "# k = 0\n",
    "# mm = 0\n",
    "# for i in all_folder:\n",
    "#     if k > 0:\n",
    "#         break\n",
    "#     k+=1\n",
    "#     all_new_labels = []\n",
    "#     folder = os.path.join(all_path,i)\n",
    "#     file_name = [file for file in os.listdir(folder) if file.endswith('.avi')]\n",
    "#     for j in file_name:\n",
    "#         file_path = os.path.join(folder,j)\n",
    "#         datalist = []\n",
    "#         with open(file_path, 'r') as file:  # 以读取模式打开文件\n",
    "#             for line in file:       # 逐行读取文件内容\n",
    "#                 # 按空格分割每一行，并将每个部分转换为浮点型\n",
    "#                 float_values = [float(x) for x in line.split()]\n",
    "#                 datalist.append(float_values)  # 将转换后的浮点型列表添加到 datalist\n",
    "#         print(1)\n",
    "#         print(len(datalist),len(datalist[0])) #该视频212条数据，每条数据126个数据\n",
    "#         datalist = list_proLR(datalist)\n",
    "#         print(2)\n",
    "#         print(len(datalist),len(datalist[0]))# 该视频424条数据，每个数据63个点\n",
    "#         print(datalist[0])\n",
    "#         new_labels = kmeans_loaded.predict(datalist)\n",
    "#         print(new_labels)\n",
    "#         mm += 1\n",
    "#         if mm > 5:\n",
    "#             break\n",
    "#         all_new_labels.append(new_labels)\n",
    "#     print(all_new_labels)"
   ]
  },
  {
   "cell_type": "code",
   "execution_count": 63,
   "id": "ac9ec78b-3fd2-4b80-9fad-c91818c81bfd",
   "metadata": {
    "tags": []
   },
   "outputs": [],
   "source": [
    "a = [[0.0, 0.0, 0.0, 0.0, 0.0, 0.0, 0.0, 0.0, 0.0, 0.0, 0.0, 0.0, 0.0, 0.0, 0.0, 0.0, 0.0, 0.0, 0.0, 0.0, 0.0, 0.0, 0.0, 0.0, 0.0, 0.0, 0.0, 0.0, 0.0, 0.0, 0.0, 0.0, 0.0, 0.0, 0.0, 0.0, 0.0, 0.0, 0.0, 0.0, 0.0, 0.0, 0.0, 0.0, 0.0, 0.0, 0.0, 0.0, 0.0, 0.0, 0.0, 0.0, 0.0, 0.0, 0.0, 0.0, 0.0, 0.0, 0.0, 0.0, 0.0, 0.0, 0.0]]"
   ]
  },
  {
   "cell_type": "code",
   "execution_count": 64,
   "id": "0134a277-ec63-4e45-a442-f0ead16f4179",
   "metadata": {
    "tags": []
   },
   "outputs": [
    {
     "data": {
      "text/plain": [
       "array([18], dtype=int32)"
      ]
     },
     "execution_count": 64,
     "metadata": {},
     "output_type": "execute_result"
    }
   ],
   "source": [
    "kmeans_loaded.predict(a)"
   ]
  },
  {
   "cell_type": "code",
   "execution_count": 5,
   "id": "14f8bf59-6e8c-497d-a7cc-f97dd6579e99",
   "metadata": {
    "tags": []
   },
   "outputs": [
    {
     "ename": "NameError",
     "evalue": "name 'list_proLR' is not defined",
     "output_type": "error",
     "traceback": [
      "\u001b[0;31m---------------------------------------------------------------------------\u001b[0m",
      "\u001b[0;31mNameError\u001b[0m                                 Traceback (most recent call last)",
      "Cell \u001b[0;32mIn[5], line 13\u001b[0m\n\u001b[1;32m     11\u001b[0m         float_values \u001b[38;5;241m=\u001b[39m [\u001b[38;5;28mfloat\u001b[39m(x) \u001b[38;5;28;01mfor\u001b[39;00m x \u001b[38;5;129;01min\u001b[39;00m line\u001b[38;5;241m.\u001b[39msplit()]\n\u001b[1;32m     12\u001b[0m         datalist\u001b[38;5;241m.\u001b[39mappend(float_values)  \u001b[38;5;66;03m# 将转换后的浮点型列表添加到 datalist\u001b[39;00m\n\u001b[0;32m---> 13\u001b[0m datalist \u001b[38;5;241m=\u001b[39m \u001b[43mlist_proLR\u001b[49m(datalist)\n\u001b[1;32m     14\u001b[0m new_labels \u001b[38;5;241m=\u001b[39m kmeans_loaded\u001b[38;5;241m.\u001b[39mpredict(datalist)\n\u001b[1;32m     15\u001b[0m all_new_labels\u001b[38;5;241m.\u001b[39mappend(new_labels)\n",
      "\u001b[0;31mNameError\u001b[0m: name 'list_proLR' is not defined"
     ]
    }
   ],
   "source": []
  },
  {
   "cell_type": "code",
   "execution_count": 72,
   "id": "a0f3136c-95a1-42a0-8f21-1f17acdd093d",
   "metadata": {
    "tags": []
   },
   "outputs": [],
   "source": [
    "loaded_data = np.load('../SLR_dataset/kmeans_40_seq/000089.npy')"
   ]
  },
  {
   "cell_type": "code",
   "execution_count": 73,
   "id": "e9f840e0-0706-48f5-a9d8-f228c704f87a",
   "metadata": {
    "tags": []
   },
   "outputs": [
    {
     "data": {
      "text/plain": [
       "(424,)"
      ]
     },
     "execution_count": 73,
     "metadata": {},
     "output_type": "execute_result"
    }
   ],
   "source": [
    "loaded_data[5].shape"
   ]
  },
  {
   "cell_type": "code",
   "execution_count": null,
   "id": "f599e94b-eecb-4721-ae02-19d0fcd538da",
   "metadata": {},
   "outputs": [],
   "source": []
  }
 ],
 "metadata": {
  "kernelspec": {
   "display_name": "Python 3 (ipykernel)",
   "language": "python",
   "name": "python3"
  },
  "language_info": {
   "codemirror_mode": {
    "name": "ipython",
    "version": 3
   },
   "file_extension": ".py",
   "mimetype": "text/x-python",
   "name": "python",
   "nbconvert_exporter": "python",
   "pygments_lexer": "ipython3",
   "version": "3.10.11"
  }
 },
 "nbformat": 4,
 "nbformat_minor": 5
}

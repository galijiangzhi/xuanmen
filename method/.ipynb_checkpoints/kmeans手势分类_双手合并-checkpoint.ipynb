{
 "cells": [
  {
   "cell_type": "code",
   "execution_count": 14,
   "id": "11322ee1-ae12-4915-b78d-32b47ab9b7ba",
   "metadata": {
    "tags": []
   },
   "outputs": [],
   "source": [
    "import os\n",
    "import numpy as np\n",
    "from joblib import dump, load"
   ]
  },
  {
   "cell_type": "code",
   "execution_count": 19,
   "id": "afa6c6e9-eebe-424c-888b-b08a00c889da",
   "metadata": {
    "tags": []
   },
   "outputs": [],
   "source": [
    "#参数列表\n",
    "kmeans_n = 100 #分的类别数\n",
    "kmeans_batch = 10000 #每个批次的样本数量\n",
    "random_state = 42 #随机种子参数\n",
    "save_path = '../model/kmeans/kmeans_100.joblib' #模型保存路径"
   ]
  },
  {
   "cell_type": "code",
   "execution_count": 20,
   "id": "ed6eb157-c51a-412d-ab48-0dd6cdb1e858",
   "metadata": {
    "tags": []
   },
   "outputs": [],
   "source": [
    "all_path = '../SLR_dataset/seq_txt'\n",
    "folder_list = os.listdir(all_path)\n",
    "folder_list = [os.path.join(all_path,i) for i in folder_list]\n",
    "#读取全部数据的根目录"
   ]
  },
  {
   "cell_type": "code",
   "execution_count": 21,
   "id": "0ffced9f-e720-43ed-987e-28437c31580e",
   "metadata": {
    "tags": []
   },
   "outputs": [],
   "source": [
    "def left_right_hand(data):\n",
    "    left = data[0:63]\n",
    "    right = data [63:]\n",
    "    return left,right\n",
    "def list_proLR(data):\n",
    "    #该函数用于将读取到的数据变成左右手格式\n",
    "    result = []\n",
    "    for i in data:\n",
    "        left,right = left_right_hand(i)\n",
    "        result.append(left)\n",
    "        result.append(right)\n",
    "    return result"
   ]
  },
  {
   "cell_type": "code",
   "execution_count": 22,
   "id": "402fc7e0-d5b5-4a9b-87e8-89ad427174f6",
   "metadata": {
    "tags": []
   },
   "outputs": [
    {
     "name": "stderr",
     "output_type": "stream",
     "text": [
      "/opt/conda/lib/python3.10/site-packages/sklearn/cluster/_kmeans.py:870: FutureWarning: The default value of `n_init` will change from 3 to 'auto' in 1.4. Set the value of `n_init` explicitly to suppress the warning\n",
      "  warnings.warn(\n"
     ]
    },
    {
     "name": "stdout",
     "output_type": "stream",
     "text": [
      "已处理 30 个批次，当前批次形状: (10000, 63)\n",
      "已处理 60 个批次，当前批次形状: (10000, 63)\n",
      "已处理 90 个批次，当前批次形状: (10000, 63)\n",
      "已处理 120 个批次，当前批次形状: (10000, 63)\n",
      "已处理 150 个批次，当前批次形状: (10000, 63)\n",
      "已处理 180 个批次，当前批次形状: (10000, 63)\n",
      "已处理 210 个批次，当前批次形状: (10000, 63)\n",
      "已处理 240 个批次，当前批次形状: (10000, 63)\n",
      "已处理 270 个批次，当前批次形状: (10000, 63)\n",
      "已处理 300 个批次，当前批次形状: (10000, 63)\n",
      "已处理 330 个批次，当前批次形状: (10000, 63)\n",
      "已处理 360 个批次，当前批次形状: (10000, 63)\n",
      "已处理 390 个批次，当前批次形状: (10000, 63)\n",
      "已处理 420 个批次，当前批次形状: (10000, 63)\n",
      "已处理 450 个批次，当前批次形状: (10000, 63)\n",
      "已处理 480 个批次，当前批次形状: (10000, 63)\n",
      "已处理 510 个批次，当前批次形状: (10000, 63)\n",
      "已处理 540 个批次，当前批次形状: (10000, 63)\n",
      "已处理 570 个批次，当前批次形状: (10000, 63)\n",
      "已处理 600 个批次，当前批次形状: (10000, 63)\n",
      "已处理 630 个批次，当前批次形状: (10000, 63)\n",
      "已处理 660 个批次，当前批次形状: (10000, 63)\n",
      "已处理 690 个批次，当前批次形状: (10000, 63)\n",
      "已处理 720 个批次，当前批次形状: (10000, 63)\n",
      "已处理 750 个批次，当前批次形状: (10000, 63)\n",
      "已处理 780 个批次，当前批次形状: (10000, 63)\n",
      "已处理 810 个批次，当前批次形状: (10000, 63)\n",
      "已处理 840 个批次，当前批次形状: (10000, 63)\n",
      "聚类标签: [18 19 18 ... 30 61 30]\n",
      "聚类中心: [[ 0.          0.          0.         ... -0.00624694  0.09402825\n",
      "  -0.00060736]\n",
      " [ 0.          0.          0.         ... -0.00388845 -0.02605695\n",
      "  -0.00296189]\n",
      " [ 0.          0.          0.         ... -0.00279234  0.00482763\n",
      "  -0.01132984]\n",
      " ...\n",
      " [ 0.          0.          0.         ... -0.00529814 -0.07565457\n",
      "  -0.00577967]\n",
      " [ 0.          0.          0.         ... -0.00140025  0.04450316\n",
      "   0.00433338]\n",
      " [ 0.          0.          0.         ... -0.02059304 -0.08235125\n",
      "  -0.01115154]]\n"
     ]
    },
    {
     "data": {
      "text/plain": [
       "['../model/kmeans/kmeans_100.joblib']"
      ]
     },
     "execution_count": 22,
     "metadata": {},
     "output_type": "execute_result"
    }
   ],
   "source": [
    "from sklearn.cluster import MiniBatchKMeans\n",
    "import numpy as np\n",
    "\n",
    "# 以内存映射方式加载 .npy 文件\n",
    "data = np.load('../trial_sheet/准确率正常的全部数据.npy', mmap_mode='r')\n",
    "\n",
    "# 初始化 MiniBatchKMeans\n",
    "n_clusters = kmeans_n\n",
    "batch_size = kmeans_batch  # 每批读取和处理的样本数\n",
    "kmeans = MiniBatchKMeans(n_clusters=n_clusters, batch_size=batch_size, random_state=random_state)\n",
    "\n",
    "# 分批读取数据并拟合模型\n",
    "num_samples = data.shape[0]  # 总样本数\n",
    "for i in range(0, num_samples, batch_size):\n",
    "    batch = data[i:i + batch_size]  # 读取当前批次的数据\n",
    "    kmeans.partial_fit(batch)  # 使用当前批次的数据更新模型\n",
    "\n",
    "    # 每处理 30 个批次打印一次信息\n",
    "    if (i // batch_size + 1) % 30 == 0:\n",
    "        print(f\"已处理 {i // batch_size + 1} 个批次，当前批次形状: {batch.shape}\")\n",
    "\n",
    "# 获取聚类结果\n",
    "labels = kmeans.labels_  # 每个样本的聚类标签\n",
    "centers = kmeans.cluster_centers_  # 聚类中心\n",
    "\n",
    "# 输出结果\n",
    "print(\"聚类标签:\", labels)\n",
    "print(\"聚类中心:\", centers)\n",
    "dump(kmeans, save_path)"
   ]
  },
  {
   "cell_type": "code",
   "execution_count": 7,
   "id": "d8059035-ea14-45f8-a85e-85f88f984705",
   "metadata": {
    "tags": []
   },
   "outputs": [],
   "source": [
    "# from sklearn.cluster import MiniBatchKMeans\n",
    "# import numpy as np\n",
    "\n",
    "# # 以内存映射方式加载 .npy 文件\n",
    "# data = np.load('../trial_sheet/准确率正常的全部数据.npy', mmap_mode='r')\n",
    "\n",
    "# # 初始化 MiniBatchKMeans\n",
    "# n_clusters = 40\n",
    "# batch_size = 10000  # 每批读取和处理的样本数\n",
    "# kmeans = MiniBatchKMeans(n_clusters=n_clusters, batch_size=batch_size, random_state=42)\n",
    "\n",
    "# # 分批读取数据并拟合模型\n",
    "# num_samples = data.shape[0]  # 总样本数\n",
    "# for i in range(0, num_samples, batch_size):\n",
    "#     batch = data[i:i + batch_size]  # 读取当前批次的数据\n",
    "#     kmeans.partial_fit(batch)  # 使用当前批次的数据更新模型\n",
    "\n",
    "#     # 每处理 30 个批次打印一次信息\n",
    "#     if (i // batch_size + 1) % 30 == 0:\n",
    "#         print(f\"已处理 {i // batch_size + 1} 个批次，当前批次形状: {batch.shape}\")\n",
    "\n",
    "# # 获取聚类结果\n",
    "# labels = kmeans.labels_  # 每个样本的聚类标签\n",
    "# centers = kmeans.cluster_centers_  # 聚类中心\n",
    "\n",
    "# # 统计每个标签的点数\n",
    "# unique_labels, counts = np.unique(labels, return_counts=True)\n",
    "\n",
    "# # 打印每个标签的点数\n",
    "# print(\"\\n每个聚类标签的点数统计:\")\n",
    "# a = 0\n",
    "# for label, count in zip(unique_labels, counts):\n",
    "#     print(f\"标签 {label}: {count} 个点\")\n",
    "#     a+=count\n",
    "# print(a)"
   ]
  },
  {
   "cell_type": "code",
   "execution_count": null,
   "id": "ca5602c5-6599-40c1-bf3c-f448897fea2a",
   "metadata": {},
   "outputs": [],
   "source": []
  }
 ],
 "metadata": {
  "kernelspec": {
   "display_name": "Python 3 (ipykernel)",
   "language": "python",
   "name": "python3"
  },
  "language_info": {
   "codemirror_mode": {
    "name": "ipython",
    "version": 3
   },
   "file_extension": ".py",
   "mimetype": "text/x-python",
   "name": "python",
   "nbconvert_exporter": "python",
   "pygments_lexer": "ipython3",
   "version": "3.10.11"
  }
 },
 "nbformat": 4,
 "nbformat_minor": 5
}

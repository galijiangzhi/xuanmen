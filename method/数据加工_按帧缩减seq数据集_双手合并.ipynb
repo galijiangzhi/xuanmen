{
 "cells": [
  {
   "cell_type": "code",
   "execution_count": 1,
   "id": "397edeb8-0981-49af-90be-57c0ab67b84c",
   "metadata": {
    "tags": []
   },
   "outputs": [],
   "source": [
    "import os\n",
    "import numpy as np"
   ]
  },
  {
   "cell_type": "code",
   "execution_count": 2,
   "id": "2e8b7eac-4bea-4859-b825-95a3b218128d",
   "metadata": {
    "tags": []
   },
   "outputs": [],
   "source": [
    "seq_folder = '../SLR_dataset/kmeans_300_seq_双手合并/'\n",
    "save_folder = '../SLR_dataset/kmeans_300_seq_frame10_双手合并/'\n",
    "frame = 10"
   ]
  },
  {
   "cell_type": "code",
   "execution_count": 3,
   "id": "3f92e979-24f5-41f0-981b-959dc816aece",
   "metadata": {
    "tags": []
   },
   "outputs": [
    {
     "name": "stdout",
     "output_type": "stream",
     "text": [
      "目录已创建：../SLR_dataset/kmeans_300_seq_frame10_双手合并/\n",
      "../SLR_dataset/kmeans_300_seq_frame10_双手合并/000000.npy\n",
      "../SLR_dataset/kmeans_300_seq_frame10_双手合并/000001.npy\n",
      "../SLR_dataset/kmeans_300_seq_frame10_双手合并/000002.npy\n",
      "../SLR_dataset/kmeans_300_seq_frame10_双手合并/000003.npy\n",
      "../SLR_dataset/kmeans_300_seq_frame10_双手合并/000004.npy\n",
      "../SLR_dataset/kmeans_300_seq_frame10_双手合并/000005.npy\n",
      "../SLR_dataset/kmeans_300_seq_frame10_双手合并/000006.npy\n",
      "../SLR_dataset/kmeans_300_seq_frame10_双手合并/000007.npy\n",
      "../SLR_dataset/kmeans_300_seq_frame10_双手合并/000008.npy\n",
      "../SLR_dataset/kmeans_300_seq_frame10_双手合并/000009.npy\n",
      "../SLR_dataset/kmeans_300_seq_frame10_双手合并/000010.npy\n",
      "../SLR_dataset/kmeans_300_seq_frame10_双手合并/000011.npy\n",
      "../SLR_dataset/kmeans_300_seq_frame10_双手合并/000012.npy\n",
      "../SLR_dataset/kmeans_300_seq_frame10_双手合并/000013.npy\n",
      "../SLR_dataset/kmeans_300_seq_frame10_双手合并/000014.npy\n",
      "../SLR_dataset/kmeans_300_seq_frame10_双手合并/000015.npy\n",
      "../SLR_dataset/kmeans_300_seq_frame10_双手合并/000016.npy\n",
      "../SLR_dataset/kmeans_300_seq_frame10_双手合并/000017.npy\n",
      "../SLR_dataset/kmeans_300_seq_frame10_双手合并/000018.npy\n",
      "../SLR_dataset/kmeans_300_seq_frame10_双手合并/000019.npy\n",
      "../SLR_dataset/kmeans_300_seq_frame10_双手合并/000020.npy\n",
      "../SLR_dataset/kmeans_300_seq_frame10_双手合并/000021.npy\n",
      "../SLR_dataset/kmeans_300_seq_frame10_双手合并/000022.npy\n",
      "../SLR_dataset/kmeans_300_seq_frame10_双手合并/000023.npy\n",
      "../SLR_dataset/kmeans_300_seq_frame10_双手合并/000024.npy\n",
      "../SLR_dataset/kmeans_300_seq_frame10_双手合并/000025.npy\n",
      "../SLR_dataset/kmeans_300_seq_frame10_双手合并/000026.npy\n",
      "../SLR_dataset/kmeans_300_seq_frame10_双手合并/000027.npy\n",
      "../SLR_dataset/kmeans_300_seq_frame10_双手合并/000028.npy\n",
      "../SLR_dataset/kmeans_300_seq_frame10_双手合并/000029.npy\n",
      "../SLR_dataset/kmeans_300_seq_frame10_双手合并/000030.npy\n",
      "../SLR_dataset/kmeans_300_seq_frame10_双手合并/000031.npy\n",
      "../SLR_dataset/kmeans_300_seq_frame10_双手合并/000032.npy\n",
      "../SLR_dataset/kmeans_300_seq_frame10_双手合并/000033.npy\n",
      "../SLR_dataset/kmeans_300_seq_frame10_双手合并/000034.npy\n",
      "../SLR_dataset/kmeans_300_seq_frame10_双手合并/000035.npy\n",
      "../SLR_dataset/kmeans_300_seq_frame10_双手合并/000036.npy\n",
      "../SLR_dataset/kmeans_300_seq_frame10_双手合并/000037.npy\n",
      "../SLR_dataset/kmeans_300_seq_frame10_双手合并/000038.npy\n",
      "../SLR_dataset/kmeans_300_seq_frame10_双手合并/000039.npy\n",
      "../SLR_dataset/kmeans_300_seq_frame10_双手合并/000040.npy\n",
      "../SLR_dataset/kmeans_300_seq_frame10_双手合并/000041.npy\n",
      "../SLR_dataset/kmeans_300_seq_frame10_双手合并/000042.npy\n",
      "../SLR_dataset/kmeans_300_seq_frame10_双手合并/000043.npy\n",
      "../SLR_dataset/kmeans_300_seq_frame10_双手合并/000044.npy\n",
      "../SLR_dataset/kmeans_300_seq_frame10_双手合并/000045.npy\n",
      "../SLR_dataset/kmeans_300_seq_frame10_双手合并/000046.npy\n",
      "../SLR_dataset/kmeans_300_seq_frame10_双手合并/000047.npy\n",
      "../SLR_dataset/kmeans_300_seq_frame10_双手合并/000048.npy\n",
      "../SLR_dataset/kmeans_300_seq_frame10_双手合并/000049.npy\n",
      "../SLR_dataset/kmeans_300_seq_frame10_双手合并/000050.npy\n",
      "../SLR_dataset/kmeans_300_seq_frame10_双手合并/000051.npy\n",
      "../SLR_dataset/kmeans_300_seq_frame10_双手合并/000052.npy\n",
      "../SLR_dataset/kmeans_300_seq_frame10_双手合并/000053.npy\n",
      "../SLR_dataset/kmeans_300_seq_frame10_双手合并/000054.npy\n",
      "../SLR_dataset/kmeans_300_seq_frame10_双手合并/000055.npy\n",
      "../SLR_dataset/kmeans_300_seq_frame10_双手合并/000056.npy\n",
      "../SLR_dataset/kmeans_300_seq_frame10_双手合并/000057.npy\n",
      "../SLR_dataset/kmeans_300_seq_frame10_双手合并/000058.npy\n",
      "../SLR_dataset/kmeans_300_seq_frame10_双手合并/000059.npy\n",
      "../SLR_dataset/kmeans_300_seq_frame10_双手合并/000060.npy\n",
      "../SLR_dataset/kmeans_300_seq_frame10_双手合并/000061.npy\n",
      "../SLR_dataset/kmeans_300_seq_frame10_双手合并/000062.npy\n",
      "../SLR_dataset/kmeans_300_seq_frame10_双手合并/000063.npy\n",
      "../SLR_dataset/kmeans_300_seq_frame10_双手合并/000064.npy\n",
      "../SLR_dataset/kmeans_300_seq_frame10_双手合并/000065.npy\n",
      "../SLR_dataset/kmeans_300_seq_frame10_双手合并/000066.npy\n",
      "../SLR_dataset/kmeans_300_seq_frame10_双手合并/000067.npy\n",
      "../SLR_dataset/kmeans_300_seq_frame10_双手合并/000068.npy\n",
      "../SLR_dataset/kmeans_300_seq_frame10_双手合并/000069.npy\n",
      "../SLR_dataset/kmeans_300_seq_frame10_双手合并/000070.npy\n",
      "../SLR_dataset/kmeans_300_seq_frame10_双手合并/000071.npy\n",
      "../SLR_dataset/kmeans_300_seq_frame10_双手合并/000072.npy\n",
      "../SLR_dataset/kmeans_300_seq_frame10_双手合并/000073.npy\n",
      "../SLR_dataset/kmeans_300_seq_frame10_双手合并/000074.npy\n",
      "../SLR_dataset/kmeans_300_seq_frame10_双手合并/000075.npy\n",
      "../SLR_dataset/kmeans_300_seq_frame10_双手合并/000076.npy\n",
      "../SLR_dataset/kmeans_300_seq_frame10_双手合并/000077.npy\n",
      "../SLR_dataset/kmeans_300_seq_frame10_双手合并/000078.npy\n",
      "../SLR_dataset/kmeans_300_seq_frame10_双手合并/000079.npy\n",
      "../SLR_dataset/kmeans_300_seq_frame10_双手合并/000080.npy\n",
      "../SLR_dataset/kmeans_300_seq_frame10_双手合并/000081.npy\n",
      "../SLR_dataset/kmeans_300_seq_frame10_双手合并/000082.npy\n",
      "../SLR_dataset/kmeans_300_seq_frame10_双手合并/000083.npy\n",
      "../SLR_dataset/kmeans_300_seq_frame10_双手合并/000084.npy\n",
      "../SLR_dataset/kmeans_300_seq_frame10_双手合并/000085.npy\n",
      "../SLR_dataset/kmeans_300_seq_frame10_双手合并/000086.npy\n",
      "../SLR_dataset/kmeans_300_seq_frame10_双手合并/000087.npy\n",
      "../SLR_dataset/kmeans_300_seq_frame10_双手合并/000088.npy\n",
      "../SLR_dataset/kmeans_300_seq_frame10_双手合并/000089.npy\n",
      "../SLR_dataset/kmeans_300_seq_frame10_双手合并/000090.npy\n",
      "../SLR_dataset/kmeans_300_seq_frame10_双手合并/000091.npy\n",
      "../SLR_dataset/kmeans_300_seq_frame10_双手合并/000092.npy\n",
      "../SLR_dataset/kmeans_300_seq_frame10_双手合并/000093.npy\n",
      "../SLR_dataset/kmeans_300_seq_frame10_双手合并/000094.npy\n",
      "../SLR_dataset/kmeans_300_seq_frame10_双手合并/000095.npy\n",
      "../SLR_dataset/kmeans_300_seq_frame10_双手合并/000096.npy\n",
      "../SLR_dataset/kmeans_300_seq_frame10_双手合并/000097.npy\n",
      "../SLR_dataset/kmeans_300_seq_frame10_双手合并/000098.npy\n",
      "../SLR_dataset/kmeans_300_seq_frame10_双手合并/000099.npy\n"
     ]
    }
   ],
   "source": [
    "if not os.path.exists(save_folder):\n",
    "    os.makedirs(save_folder)\n",
    "    print(f\"目录已创建：{save_folder}\")\n",
    "else:\n",
    "    print(f\"目录已存在：{save_folder}\")\n",
    "\n",
    "nplist = os.listdir(seq_folder)\n",
    "for j in nplist:\n",
    "    data  = np.load(os.path.join(seq_folder,j),allow_pickle=True)\n",
    "    all_data = []\n",
    "    for i in data:\n",
    "        mask = np.zeros(len(i), dtype=bool)\n",
    "        mask[np.arange(len(i)) % (frame) < 1] = True  # 每8个位置中前2个为True\n",
    "        all_data.append(i[mask])\n",
    "    npdata = np.array(all_data,dtype=object)\n",
    "    np.save(os.path.join(save_folder,j), npdata, allow_pickle=True)\n",
    "    print(os.path.join(save_folder,j))"
   ]
  },
  {
   "cell_type": "code",
   "execution_count": 9,
   "id": "1038cf7a-fddf-4966-8cb2-a94d2bf7ce33",
   "metadata": {},
   "outputs": [],
   "source": [
    "aa = np.load('../SLR_dataset/kmeans_40_seq_frame5_双手合并/000099.npy',allow_pickle=True)"
   ]
  },
  {
   "cell_type": "code",
   "execution_count": 19,
   "id": "c4e9e6df-ca11-4f8b-93aa-c86c53c9c354",
   "metadata": {
    "tags": []
   },
   "outputs": [],
   "source": [
    "bb = np.load('../SLR_dataset/kmeans_40_seq_frame7_双手合并/000099.npy',allow_pickle=True)"
   ]
  },
  {
   "cell_type": "code",
   "execution_count": 20,
   "id": "f3c9db89-84f7-46fb-90c9-1cd399c19e56",
   "metadata": {
    "tags": []
   },
   "outputs": [
    {
     "data": {
      "text/plain": [
       "array([ 6, 33,  6, 11,  6, 32, 36,  2, 32, 10, 17, 37,  6, 30,  7, 25,  1,\n",
       "       28, 28, 24,  1, 17, 35,  5,  5,  5,  5], dtype=int32)"
      ]
     },
     "execution_count": 20,
     "metadata": {},
     "output_type": "execute_result"
    }
   ],
   "source": [
    "bb[0]"
   ]
  },
  {
   "cell_type": "code",
   "execution_count": 16,
   "id": "c44a6471-e567-4566-9baa-39f1c59e0bc1",
   "metadata": {
    "tags": []
   },
   "outputs": [
    {
     "data": {
      "text/plain": [
       "array([ 6, 33, 26,  6, 11,  6,  6, 32,  0, 36,  2, 32, 32, 10, 17, 38,  6,\n",
       "        6,  6, 25,  7, 25,  1,  1, 28, 28, 28,  1,  1, 17,  2, 35,  5,  5,\n",
       "        5,  5,  5], dtype=int32)"
      ]
     },
     "execution_count": 16,
     "metadata": {},
     "output_type": "execute_result"
    }
   ],
   "source": [
    "aa[0]"
   ]
  },
  {
   "cell_type": "code",
   "execution_count": null,
   "id": "eb23115b-afa7-4ec7-8910-80e0a5582c2c",
   "metadata": {},
   "outputs": [],
   "source": []
  }
 ],
 "metadata": {
  "kernelspec": {
   "display_name": "Python 3 (ipykernel)",
   "language": "python",
   "name": "python3"
  },
  "language_info": {
   "codemirror_mode": {
    "name": "ipython",
    "version": 3
   },
   "file_extension": ".py",
   "mimetype": "text/x-python",
   "name": "python",
   "nbconvert_exporter": "python",
   "pygments_lexer": "ipython3",
   "version": "3.10.11"
  }
 },
 "nbformat": 4,
 "nbformat_minor": 5
}

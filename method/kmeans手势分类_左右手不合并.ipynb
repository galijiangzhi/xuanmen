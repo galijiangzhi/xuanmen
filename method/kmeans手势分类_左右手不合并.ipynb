{
 "cells": [
  {
   "cell_type": "code",
   "execution_count": 1,
   "id": "11322ee1-ae12-4915-b78d-32b47ab9b7ba",
   "metadata": {
    "tags": []
   },
   "outputs": [],
   "source": [
    "import os\n",
    "import numpy as np\n",
    "from joblib import dump, load"
   ]
  },
  {
   "cell_type": "code",
   "execution_count": 2,
   "id": "afa6c6e9-eebe-424c-888b-b08a00c889da",
   "metadata": {
    "tags": []
   },
   "outputs": [],
   "source": [
    "#参数列表\n",
    "kmeans_n = 40 #分的类别数\n",
    "kmeans_batch = 10000 #每个批次的样本数量\n",
    "random_state = 42 #随机种子参数\n",
    "save_path = '../model/kmeans/kmeans_40_双手合并.joblib' #模型保存路径"
   ]
  },
  {
   "cell_type": "code",
   "execution_count": 3,
   "id": "ed6eb157-c51a-412d-ab48-0dd6cdb1e858",
   "metadata": {
    "tags": []
   },
   "outputs": [],
   "source": [
    "all_path = '../SLR_dataset/seq_txt'\n",
    "folder_list = os.listdir(all_path)\n",
    "folder_list = [os.path.join(all_path,i) for i in folder_list]\n",
    "#读取全部数据的根目录"
   ]
  },
  {
   "cell_type": "code",
   "execution_count": 21,
   "id": "0ffced9f-e720-43ed-987e-28437c31580e",
   "metadata": {
    "tags": []
   },
   "outputs": [],
   "source": [
    "def left_right_hand(data):\n",
    "    left = data[0:63]\n",
    "    right = data [63:]\n",
    "    return left,right\n",
    "def list_proLR(data):\n",
    "    #该函数用于将读取到的数据变成左右手格式\n",
    "    result = []\n",
    "    for i in data:\n",
    "        result.append(i)\n",
    "    return result"
   ]
  },
  {
   "cell_type": "code",
   "execution_count": 5,
   "id": "8ff75a4b-5926-4f41-a2e5-ea44ccde529f",
   "metadata": {
    "tags": []
   },
   "outputs": [],
   "source": [
    "data = np.load('../trial_sheet/准确率正常的全部数据.npy', mmap_mode='r')"
   ]
  },
  {
   "cell_type": "code",
   "execution_count": 4,
   "id": "402fc7e0-d5b5-4a9b-87e8-89ad427174f6",
   "metadata": {
    "tags": []
   },
   "outputs": [
    {
     "name": "stderr",
     "output_type": "stream",
     "text": [
      "/opt/conda/lib/python3.10/site-packages/sklearn/cluster/_kmeans.py:870: FutureWarning: The default value of `n_init` will change from 3 to 'auto' in 1.4. Set the value of `n_init` explicitly to suppress the warning\n",
      "  warnings.warn(\n"
     ]
    },
    {
     "name": "stdout",
     "output_type": "stream",
     "text": [
      "已处理 30 个批次，当前批次形状: (10000, 63)\n",
      "已处理 60 个批次，当前批次形状: (10000, 63)\n",
      "已处理 90 个批次，当前批次形状: (10000, 63)\n"
     ]
    },
    {
     "ename": "KeyboardInterrupt",
     "evalue": "",
     "output_type": "error",
     "traceback": [
      "\u001b[0;31m---------------------------------------------------------------------------\u001b[0m",
      "\u001b[0;31mKeyboardInterrupt\u001b[0m                         Traceback (most recent call last)",
      "Cell \u001b[0;32mIn[4], line 16\u001b[0m\n\u001b[1;32m     14\u001b[0m \u001b[38;5;28;01mfor\u001b[39;00m i \u001b[38;5;129;01min\u001b[39;00m \u001b[38;5;28mrange\u001b[39m(\u001b[38;5;241m0\u001b[39m, num_samples, batch_size):\n\u001b[1;32m     15\u001b[0m     batch \u001b[38;5;241m=\u001b[39m data[i:i \u001b[38;5;241m+\u001b[39m batch_size]  \u001b[38;5;66;03m# 读取当前批次的数据\u001b[39;00m\n\u001b[0;32m---> 16\u001b[0m     \u001b[43mkmeans\u001b[49m\u001b[38;5;241;43m.\u001b[39;49m\u001b[43mpartial_fit\u001b[49m\u001b[43m(\u001b[49m\u001b[43mbatch\u001b[49m\u001b[43m)\u001b[49m  \u001b[38;5;66;03m# 使用当前批次的数据更新模型\u001b[39;00m\n\u001b[1;32m     18\u001b[0m     \u001b[38;5;66;03m# 每处理 30 个批次打印一次信息\u001b[39;00m\n\u001b[1;32m     19\u001b[0m     \u001b[38;5;28;01mif\u001b[39;00m (i \u001b[38;5;241m/\u001b[39m\u001b[38;5;241m/\u001b[39m batch_size \u001b[38;5;241m+\u001b[39m \u001b[38;5;241m1\u001b[39m) \u001b[38;5;241m%\u001b[39m \u001b[38;5;241m30\u001b[39m \u001b[38;5;241m==\u001b[39m \u001b[38;5;241m0\u001b[39m:\n",
      "File \u001b[0;32m/opt/conda/lib/python3.10/site-packages/sklearn/cluster/_kmeans.py:2223\u001b[0m, in \u001b[0;36mMiniBatchKMeans.partial_fit\u001b[0;34m(self, X, y, sample_weight)\u001b[0m\n\u001b[1;32m   2220\u001b[0m     \u001b[38;5;28mself\u001b[39m\u001b[38;5;241m.\u001b[39m_n_since_last_reassign \u001b[38;5;241m=\u001b[39m \u001b[38;5;241m0\u001b[39m\n\u001b[1;32m   2222\u001b[0m \u001b[38;5;28;01mwith\u001b[39;00m threadpool_limits(limits\u001b[38;5;241m=\u001b[39m\u001b[38;5;241m1\u001b[39m, user_api\u001b[38;5;241m=\u001b[39m\u001b[38;5;124m\"\u001b[39m\u001b[38;5;124mblas\u001b[39m\u001b[38;5;124m\"\u001b[39m):\n\u001b[0;32m-> 2223\u001b[0m     \u001b[43m_mini_batch_step\u001b[49m\u001b[43m(\u001b[49m\n\u001b[1;32m   2224\u001b[0m \u001b[43m        \u001b[49m\u001b[43mX\u001b[49m\u001b[43m,\u001b[49m\n\u001b[1;32m   2225\u001b[0m \u001b[43m        \u001b[49m\u001b[43msample_weight\u001b[49m\u001b[38;5;241;43m=\u001b[39;49m\u001b[43msample_weight\u001b[49m\u001b[43m,\u001b[49m\n\u001b[1;32m   2226\u001b[0m \u001b[43m        \u001b[49m\u001b[43mcenters\u001b[49m\u001b[38;5;241;43m=\u001b[39;49m\u001b[38;5;28;43mself\u001b[39;49m\u001b[38;5;241;43m.\u001b[39;49m\u001b[43mcluster_centers_\u001b[49m\u001b[43m,\u001b[49m\n\u001b[1;32m   2227\u001b[0m \u001b[43m        \u001b[49m\u001b[43mcenters_new\u001b[49m\u001b[38;5;241;43m=\u001b[39;49m\u001b[38;5;28;43mself\u001b[39;49m\u001b[38;5;241;43m.\u001b[39;49m\u001b[43mcluster_centers_\u001b[49m\u001b[43m,\u001b[49m\n\u001b[1;32m   2228\u001b[0m \u001b[43m        \u001b[49m\u001b[43mweight_sums\u001b[49m\u001b[38;5;241;43m=\u001b[39;49m\u001b[38;5;28;43mself\u001b[39;49m\u001b[38;5;241;43m.\u001b[39;49m\u001b[43m_counts\u001b[49m\u001b[43m,\u001b[49m\n\u001b[1;32m   2229\u001b[0m \u001b[43m        \u001b[49m\u001b[43mrandom_state\u001b[49m\u001b[38;5;241;43m=\u001b[39;49m\u001b[38;5;28;43mself\u001b[39;49m\u001b[38;5;241;43m.\u001b[39;49m\u001b[43m_random_state\u001b[49m\u001b[43m,\u001b[49m\n\u001b[1;32m   2230\u001b[0m \u001b[43m        \u001b[49m\u001b[43mrandom_reassign\u001b[49m\u001b[38;5;241;43m=\u001b[39;49m\u001b[38;5;28;43mself\u001b[39;49m\u001b[38;5;241;43m.\u001b[39;49m\u001b[43m_random_reassign\u001b[49m\u001b[43m(\u001b[49m\u001b[43m)\u001b[49m\u001b[43m,\u001b[49m\n\u001b[1;32m   2231\u001b[0m \u001b[43m        \u001b[49m\u001b[43mreassignment_ratio\u001b[49m\u001b[38;5;241;43m=\u001b[39;49m\u001b[38;5;28;43mself\u001b[39;49m\u001b[38;5;241;43m.\u001b[39;49m\u001b[43mreassignment_ratio\u001b[49m\u001b[43m,\u001b[49m\n\u001b[1;32m   2232\u001b[0m \u001b[43m        \u001b[49m\u001b[43mverbose\u001b[49m\u001b[38;5;241;43m=\u001b[39;49m\u001b[38;5;28;43mself\u001b[39;49m\u001b[38;5;241;43m.\u001b[39;49m\u001b[43mverbose\u001b[49m\u001b[43m,\u001b[49m\n\u001b[1;32m   2233\u001b[0m \u001b[43m        \u001b[49m\u001b[43mn_threads\u001b[49m\u001b[38;5;241;43m=\u001b[39;49m\u001b[38;5;28;43mself\u001b[39;49m\u001b[38;5;241;43m.\u001b[39;49m\u001b[43m_n_threads\u001b[49m\u001b[43m,\u001b[49m\n\u001b[1;32m   2234\u001b[0m \u001b[43m    \u001b[49m\u001b[43m)\u001b[49m\n\u001b[1;32m   2236\u001b[0m \u001b[38;5;28;01mif\u001b[39;00m \u001b[38;5;28mself\u001b[39m\u001b[38;5;241m.\u001b[39mcompute_labels:\n\u001b[1;32m   2237\u001b[0m     \u001b[38;5;28mself\u001b[39m\u001b[38;5;241m.\u001b[39mlabels_, \u001b[38;5;28mself\u001b[39m\u001b[38;5;241m.\u001b[39minertia_ \u001b[38;5;241m=\u001b[39m _labels_inertia_threadpool_limit(\n\u001b[1;32m   2238\u001b[0m         X,\n\u001b[1;32m   2239\u001b[0m         sample_weight,\n\u001b[1;32m   2240\u001b[0m         \u001b[38;5;28mself\u001b[39m\u001b[38;5;241m.\u001b[39mcluster_centers_,\n\u001b[1;32m   2241\u001b[0m         n_threads\u001b[38;5;241m=\u001b[39m\u001b[38;5;28mself\u001b[39m\u001b[38;5;241m.\u001b[39m_n_threads,\n\u001b[1;32m   2242\u001b[0m     )\n",
      "File \u001b[0;32m/opt/conda/lib/python3.10/site-packages/sklearn/cluster/_kmeans.py:1582\u001b[0m, in \u001b[0;36m_mini_batch_step\u001b[0;34m(X, sample_weight, centers, centers_new, weight_sums, random_state, random_reassign, reassignment_ratio, verbose, n_threads)\u001b[0m\n\u001b[1;32m   1527\u001b[0m \u001b[38;5;250m\u001b[39m\u001b[38;5;124;03m\"\"\"Incremental update of the centers for the Minibatch K-Means algorithm.\u001b[39;00m\n\u001b[1;32m   1528\u001b[0m \n\u001b[1;32m   1529\u001b[0m \u001b[38;5;124;03mParameters\u001b[39;00m\n\u001b[0;32m   (...)\u001b[0m\n\u001b[1;32m   1577\u001b[0m \u001b[38;5;124;03m    the centers.\u001b[39;00m\n\u001b[1;32m   1578\u001b[0m \u001b[38;5;124;03m\"\"\"\u001b[39;00m\n\u001b[1;32m   1579\u001b[0m \u001b[38;5;66;03m# Perform label assignment to nearest centers\u001b[39;00m\n\u001b[1;32m   1580\u001b[0m \u001b[38;5;66;03m# For better efficiency, it's better to run _mini_batch_step in a\u001b[39;00m\n\u001b[1;32m   1581\u001b[0m \u001b[38;5;66;03m# threadpool_limit context than using _labels_inertia_threadpool_limit here\u001b[39;00m\n\u001b[0;32m-> 1582\u001b[0m labels, inertia \u001b[38;5;241m=\u001b[39m \u001b[43m_labels_inertia\u001b[49m\u001b[43m(\u001b[49m\u001b[43mX\u001b[49m\u001b[43m,\u001b[49m\u001b[43m \u001b[49m\u001b[43msample_weight\u001b[49m\u001b[43m,\u001b[49m\u001b[43m \u001b[49m\u001b[43mcenters\u001b[49m\u001b[43m,\u001b[49m\u001b[43m \u001b[49m\u001b[43mn_threads\u001b[49m\u001b[38;5;241;43m=\u001b[39;49m\u001b[43mn_threads\u001b[49m\u001b[43m)\u001b[49m\n\u001b[1;32m   1584\u001b[0m \u001b[38;5;66;03m# Update centers according to the labels\u001b[39;00m\n\u001b[1;32m   1585\u001b[0m \u001b[38;5;28;01mif\u001b[39;00m sp\u001b[38;5;241m.\u001b[39missparse(X):\n",
      "File \u001b[0;32m/opt/conda/lib/python3.10/site-packages/sklearn/cluster/_kmeans.py:789\u001b[0m, in \u001b[0;36m_labels_inertia\u001b[0;34m(X, sample_weight, centers, n_threads, return_inertia)\u001b[0m\n\u001b[1;32m    786\u001b[0m     X \u001b[38;5;241m=\u001b[39m ReadonlyArrayWrapper(X)\n\u001b[1;32m    788\u001b[0m centers \u001b[38;5;241m=\u001b[39m ReadonlyArrayWrapper(centers)\n\u001b[0;32m--> 789\u001b[0m \u001b[43m_labels\u001b[49m\u001b[43m(\u001b[49m\n\u001b[1;32m    790\u001b[0m \u001b[43m    \u001b[49m\u001b[43mX\u001b[49m\u001b[43m,\u001b[49m\n\u001b[1;32m    791\u001b[0m \u001b[43m    \u001b[49m\u001b[43msample_weight\u001b[49m\u001b[43m,\u001b[49m\n\u001b[1;32m    792\u001b[0m \u001b[43m    \u001b[49m\u001b[43mcenters\u001b[49m\u001b[43m,\u001b[49m\n\u001b[1;32m    793\u001b[0m \u001b[43m    \u001b[49m\u001b[43mcenters_new\u001b[49m\u001b[38;5;241;43m=\u001b[39;49m\u001b[38;5;28;43;01mNone\u001b[39;49;00m\u001b[43m,\u001b[49m\n\u001b[1;32m    794\u001b[0m \u001b[43m    \u001b[49m\u001b[43mweight_in_clusters\u001b[49m\u001b[38;5;241;43m=\u001b[39;49m\u001b[38;5;28;43;01mNone\u001b[39;49;00m\u001b[43m,\u001b[49m\n\u001b[1;32m    795\u001b[0m \u001b[43m    \u001b[49m\u001b[43mlabels\u001b[49m\u001b[38;5;241;43m=\u001b[39;49m\u001b[43mlabels\u001b[49m\u001b[43m,\u001b[49m\n\u001b[1;32m    796\u001b[0m \u001b[43m    \u001b[49m\u001b[43mcenter_shift\u001b[49m\u001b[38;5;241;43m=\u001b[39;49m\u001b[43mcenter_shift\u001b[49m\u001b[43m,\u001b[49m\n\u001b[1;32m    797\u001b[0m \u001b[43m    \u001b[49m\u001b[43mn_threads\u001b[49m\u001b[38;5;241;43m=\u001b[39;49m\u001b[43mn_threads\u001b[49m\u001b[43m,\u001b[49m\n\u001b[1;32m    798\u001b[0m \u001b[43m    \u001b[49m\u001b[43mupdate_centers\u001b[49m\u001b[38;5;241;43m=\u001b[39;49m\u001b[38;5;28;43;01mFalse\u001b[39;49;00m\u001b[43m,\u001b[49m\n\u001b[1;32m    799\u001b[0m \u001b[43m\u001b[49m\u001b[43m)\u001b[49m\n\u001b[1;32m    801\u001b[0m \u001b[38;5;28;01mif\u001b[39;00m return_inertia:\n\u001b[1;32m    802\u001b[0m     inertia \u001b[38;5;241m=\u001b[39m _inertia(X, sample_weight, centers, labels, n_threads)\n",
      "\u001b[0;31mKeyboardInterrupt\u001b[0m: "
     ]
    }
   ],
   "source": [
    "from sklearn.cluster import MiniBatchKMeans\n",
    "import numpy as np\n",
    "\n",
    "# 以内存映射方式加载 .npy 文件\n",
    "data = np.load('../trial_sheet/准确率正常的全部数据.npy', mmap_mode='r')\n",
    "\n",
    "# 初始化 MiniBatchKMeans\n",
    "n_clusters = kmeans_n\n",
    "batch_size = kmeans_batch  # 每批读取和处理的样本数\n",
    "kmeans = MiniBatchKMeans(n_clusters=n_clusters, batch_size=batch_size, random_state=random_state)\n",
    "\n",
    "# 分批读取数据并拟合模型\n",
    "num_samples = data.shape[0]  # 总样本数\n",
    "for i in range(0, num_samples, batch_size):\n",
    "    batch = data[i:i + batch_size]  # 读取当前批次的数据\n",
    "    kmeans.partial_fit(batch)  # 使用当前批次的数据更新模型\n",
    "\n",
    "    # 每处理 30 个批次打印一次信息\n",
    "    if (i // batch_size + 1) % 30 == 0:\n",
    "        print(f\"已处理 {i // batch_size + 1} 个批次，当前批次形状: {batch.shape}\")\n",
    "\n",
    "# 获取聚类结果\n",
    "labels = kmeans.labels_  # 每个样本的聚类标签\n",
    "centers = kmeans.cluster_centers_  # 聚类中心\n",
    "\n",
    "# 输出结果\n",
    "print(\"聚类标签:\", labels)\n",
    "print(\"聚类中心:\", centers)\n",
    "dump(kmeans, save_path)"
   ]
  },
  {
   "cell_type": "code",
   "execution_count": 7,
   "id": "d8059035-ea14-45f8-a85e-85f88f984705",
   "metadata": {
    "tags": []
   },
   "outputs": [],
   "source": [
    "# from sklearn.cluster import MiniBatchKMeans\n",
    "# import numpy as np\n",
    "\n",
    "# # 以内存映射方式加载 .npy 文件\n",
    "# data = np.load('../trial_sheet/准确率正常的全部数据.npy', mmap_mode='r')\n",
    "\n",
    "# # 初始化 MiniBatchKMeans\n",
    "# n_clusters = 40\n",
    "# batch_size = 10000  # 每批读取和处理的样本数\n",
    "# kmeans = MiniBatchKMeans(n_clusters=n_clusters, batch_size=batch_size, random_state=42)\n",
    "\n",
    "# # 分批读取数据并拟合模型\n",
    "# num_samples = data.shape[0]  # 总样本数\n",
    "# for i in range(0, num_samples, batch_size):\n",
    "#     batch = data[i:i + batch_size]  # 读取当前批次的数据\n",
    "#     kmeans.partial_fit(batch)  # 使用当前批次的数据更新模型\n",
    "\n",
    "#     # 每处理 30 个批次打印一次信息\n",
    "#     if (i // batch_size + 1) % 30 == 0:\n",
    "#         print(f\"已处理 {i // batch_size + 1} 个批次，当前批次形状: {batch.shape}\")\n",
    "\n",
    "# # 获取聚类结果\n",
    "# labels = kmeans.labels_  # 每个样本的聚类标签\n",
    "# centers = kmeans.cluster_centers_  # 聚类中心\n",
    "\n",
    "# # 统计每个标签的点数\n",
    "# unique_labels, counts = np.unique(labels, return_counts=True)\n",
    "\n",
    "# # 打印每个标签的点数\n",
    "# print(\"\\n每个聚类标签的点数统计:\")\n",
    "# a = 0\n",
    "# for label, count in zip(unique_labels, counts):\n",
    "#     print(f\"标签 {label}: {count} 个点\")\n",
    "#     a+=count\n",
    "# print(a)"
   ]
  },
  {
   "cell_type": "code",
   "execution_count": null,
   "id": "ca5602c5-6599-40c1-bf3c-f448897fea2a",
   "metadata": {},
   "outputs": [],
   "source": []
  }
 ],
 "metadata": {
  "kernelspec": {
   "display_name": "Python 3 (ipykernel)",
   "language": "python",
   "name": "python3"
  },
  "language_info": {
   "codemirror_mode": {
    "name": "ipython",
    "version": 3
   },
   "file_extension": ".py",
   "mimetype": "text/x-python",
   "name": "python",
   "nbconvert_exporter": "python",
   "pygments_lexer": "ipython3",
   "version": "3.10.11"
  }
 },
 "nbformat": 4,
 "nbformat_minor": 5
}

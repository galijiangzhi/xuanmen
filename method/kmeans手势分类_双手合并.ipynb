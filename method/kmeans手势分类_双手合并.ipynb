{
 "cells": [
  {
   "cell_type": "code",
   "execution_count": 1,
   "id": "11322ee1-ae12-4915-b78d-32b47ab9b7ba",
   "metadata": {
    "tags": []
   },
   "outputs": [],
   "source": [
    "import os\n",
    "import numpy as np\n",
    "from joblib import dump, load\n",
    "from concurrent.futures import ProcessPoolExecutor\n",
    "from itertools import chain"
   ]
  },
  {
   "cell_type": "code",
   "execution_count": 2,
   "id": "afa6c6e9-eebe-424c-888b-b08a00c889da",
   "metadata": {
    "tags": []
   },
   "outputs": [],
   "source": [
    "#参数列表\n",
    "kmeans_n = 300 #分的类别数\n",
    "kmeans_batch = 10000 #每个批次的样本数量\n",
    "random_state = 42 #随机种子参数\n",
    "save_path = '../model/kmeans/kmeans_300_双手合并.joblib' #模型保存路径"
   ]
  },
  {
   "cell_type": "code",
   "execution_count": 3,
   "id": "6ed5c8e4-4075-46ac-921e-1bf7aae17d84",
   "metadata": {
    "tags": []
   },
   "outputs": [],
   "source": [
    "all_path = '../SLR_dataset/seq_txt'\n",
    "folder_list = os.listdir(all_path)\n",
    "folder_list = [os.path.join(all_path,i) for i in folder_list]\n",
    "#读取全部数据的根目录"
   ]
  },
  {
   "cell_type": "code",
   "execution_count": 4,
   "id": "0fab6f83-7268-477b-a5d9-0d806a35dc61",
   "metadata": {
    "tags": []
   },
   "outputs": [],
   "source": [
    "# def process_folder(folder):\n",
    "#     folder_data = []\n",
    "#     for filename in os.listdir(folder):\n",
    "#         if filename.endswith('.avi'):\n",
    "#             filepath = os.path.join(folder, filename)\n",
    "#             with open(filepath, 'r') as f:\n",
    "#                 folder_data.extend([list(map(float, line.split())) for line in f])\n",
    "#     return folder_data\n",
    "\n",
    "# def fastest_code(folder_list):\n",
    "#     with ProcessPoolExecutor() as executor:\n",
    "#         # 并行处理所有文件夹\n",
    "#         results = list(executor.map(process_folder, folder_list))\n",
    "#     # 合并所有结果\n",
    "#     return list(chain.from_iterable(results))"
   ]
  },
  {
   "cell_type": "code",
   "execution_count": 5,
   "id": "c0f99c28-0446-4c09-97e0-103f43c56731",
   "metadata": {
    "tags": []
   },
   "outputs": [],
   "source": [
    "# data = fastest_code(folder_list)"
   ]
  },
  {
   "cell_type": "code",
   "execution_count": 6,
   "id": "fbb44301-e220-4d5e-b5bf-b0555d0584c7",
   "metadata": {
    "tags": []
   },
   "outputs": [],
   "source": [
    "# all_data = np.array(data)"
   ]
  },
  {
   "cell_type": "code",
   "execution_count": 7,
   "id": "2f4af253-5e85-4053-a9fb-e1e9ef1e1f6f",
   "metadata": {
    "tags": []
   },
   "outputs": [],
   "source": [
    "# np.save(\"../trial_sheet/准确率正常的全部数据_左右手合并.npy\", all_data)"
   ]
  },
  {
   "cell_type": "code",
   "execution_count": 8,
   "id": "12c10621-0c2b-4c09-95fe-c84d9db9dfaa",
   "metadata": {
    "tags": []
   },
   "outputs": [],
   "source": [
    "# all_data.shape"
   ]
  },
  {
   "cell_type": "code",
   "execution_count": 9,
   "id": "402fc7e0-d5b5-4a9b-87e8-89ad427174f6",
   "metadata": {
    "tags": []
   },
   "outputs": [
    {
     "name": "stderr",
     "output_type": "stream",
     "text": [
      "/opt/conda/lib/python3.10/site-packages/sklearn/cluster/_kmeans.py:870: FutureWarning: The default value of `n_init` will change from 3 to 'auto' in 1.4. Set the value of `n_init` explicitly to suppress the warning\n",
      "  warnings.warn(\n"
     ]
    },
    {
     "name": "stdout",
     "output_type": "stream",
     "text": [
      "已处理 30 个批次，当前批次形状: (10000, 126)\n",
      "已处理 60 个批次，当前批次形状: (10000, 126)\n",
      "已处理 90 个批次，当前批次形状: (10000, 126)\n",
      "已处理 120 个批次，当前批次形状: (10000, 126)\n",
      "已处理 150 个批次，当前批次形状: (10000, 126)\n",
      "已处理 180 个批次，当前批次形状: (10000, 126)\n",
      "已处理 210 个批次，当前批次形状: (10000, 126)\n",
      "已处理 240 个批次，当前批次形状: (10000, 126)\n",
      "已处理 270 个批次，当前批次形状: (10000, 126)\n",
      "已处理 300 个批次，当前批次形状: (10000, 126)\n",
      "已处理 330 个批次，当前批次形状: (10000, 126)\n",
      "已处理 360 个批次，当前批次形状: (10000, 126)\n",
      "已处理 390 个批次，当前批次形状: (10000, 126)\n",
      "已处理 420 个批次，当前批次形状: (10000, 126)\n",
      "聚类标签: [  4 265 235 ...  38 174 174]\n",
      "聚类中心: [[ 0.00000000e+00  0.00000000e+00  0.00000000e+00 ... -2.44367810e-02\n",
      "  -1.74642830e-02 -6.39814221e-03]\n",
      " [ 0.00000000e+00  0.00000000e+00  0.00000000e+00 ... -2.16928346e-05\n",
      "   1.35408611e-04 -1.21635993e-04]\n",
      " [ 0.00000000e+00  0.00000000e+00  0.00000000e+00 ... -8.50902843e-05\n",
      "   1.10613982e-04 -1.54816495e-04]\n",
      " ...\n",
      " [ 0.00000000e+00  0.00000000e+00  0.00000000e+00 ...  5.14062121e-03\n",
      "   8.56439557e-02  2.42325604e-03]\n",
      " [ 0.00000000e+00  0.00000000e+00  0.00000000e+00 ... -2.41111924e-02\n",
      "  -1.36721984e-02 -7.04874495e-03]\n",
      " [ 0.00000000e+00  0.00000000e+00  0.00000000e+00 ...  8.48235881e-05\n",
      "   7.46956567e-05 -8.03223411e-05]]\n"
     ]
    },
    {
     "data": {
      "text/plain": [
       "['../model/kmeans/kmeans_300_双手合并.joblib']"
      ]
     },
     "execution_count": 9,
     "metadata": {},
     "output_type": "execute_result"
    }
   ],
   "source": [
    "from sklearn.cluster import MiniBatchKMeans\n",
    "import numpy as np\n",
    "\n",
    "# 以内存映射方式加载 .npy 文件\n",
    "data = np.load('../trial_sheet/准确率正常的全部数据_左右手合并.npy', mmap_mode='r')\n",
    "\n",
    "# 初始化 MiniBatchKMeans\n",
    "n_clusters = kmeans_n\n",
    "batch_size = kmeans_batch  # 每批读取和处理的样本数\n",
    "kmeans = MiniBatchKMeans(n_clusters=n_clusters, batch_size=batch_size, random_state=random_state)\n",
    "\n",
    "# 分批读取数据并拟合模型\n",
    "num_samples = data.shape[0]  # 总样本数\n",
    "for i in range(0, num_samples, batch_size):\n",
    "    batch = data[i:i + batch_size]  # 读取当前批次的数据\n",
    "    kmeans.partial_fit(batch)  # 使用当前批次的数据更新模型\n",
    "\n",
    "    # 每处理 30 个批次打印一次信息\n",
    "    if (i // batch_size + 1) % 30 == 0:\n",
    "        print(f\"已处理 {i // batch_size + 1} 个批次，当前批次形状: {batch.shape}\")\n",
    "\n",
    "# 获取聚类结果\n",
    "labels = kmeans.labels_  # 每个样本的聚类标签\n",
    "centers = kmeans.cluster_centers_  # 聚类中心\n",
    "\n",
    "# 输出结果\n",
    "print(\"聚类标签:\", labels)\n",
    "print(\"聚类中心:\", centers)\n",
    "dump(kmeans, save_path)"
   ]
  },
  {
   "cell_type": "code",
   "execution_count": 7,
   "id": "d8059035-ea14-45f8-a85e-85f88f984705",
   "metadata": {
    "tags": []
   },
   "outputs": [],
   "source": [
    "# from sklearn.cluster import MiniBatchKMeans\n",
    "# import numpy as np\n",
    "\n",
    "# # 以内存映射方式加载 .npy 文件\n",
    "# data = np.load('../trial_sheet/准确率正常的全部数据.npy', mmap_mode='r')\n",
    "\n",
    "# # 初始化 MiniBatchKMeans\n",
    "# n_clusters = 40\n",
    "# batch_size = 10000  # 每批读取和处理的样本数\n",
    "# kmeans = MiniBatchKMeans(n_clusters=n_clusters, batch_size=batch_size, random_state=42)\n",
    "\n",
    "# # 分批读取数据并拟合模型\n",
    "# num_samples = data.shape[0]  # 总样本数\n",
    "# for i in range(0, num_samples, batch_size):\n",
    "#     batch = data[i:i + batch_size]  # 读取当前批次的数据\n",
    "#     kmeans.partial_fit(batch)  # 使用当前批次的数据更新模型\n",
    "\n",
    "#     # 每处理 30 个批次打印一次信息\n",
    "#     if (i // batch_size + 1) % 30 == 0:\n",
    "#         print(f\"已处理 {i // batch_size + 1} 个批次，当前批次形状: {batch.shape}\")\n",
    "\n",
    "# # 获取聚类结果\n",
    "# labels = kmeans.labels_  # 每个样本的聚类标签\n",
    "# centers = kmeans.cluster_centers_  # 聚类中心\n",
    "\n",
    "# # 统计每个标签的点数\n",
    "# unique_labels, counts = np.unique(labels, return_counts=True)\n",
    "\n",
    "# # 打印每个标签的点数\n",
    "# print(\"\\n每个聚类标签的点数统计:\")\n",
    "# a = 0\n",
    "# for label, count in zip(unique_labels, counts):\n",
    "#     print(f\"标签 {label}: {count} 个点\")\n",
    "#     a+=count\n",
    "# print(a)"
   ]
  },
  {
   "cell_type": "code",
   "execution_count": null,
   "id": "ca5602c5-6599-40c1-bf3c-f448897fea2a",
   "metadata": {},
   "outputs": [],
   "source": []
  }
 ],
 "metadata": {
  "kernelspec": {
   "display_name": "Python 3 (ipykernel)",
   "language": "python",
   "name": "python3"
  },
  "language_info": {
   "codemirror_mode": {
    "name": "ipython",
    "version": 3
   },
   "file_extension": ".py",
   "mimetype": "text/x-python",
   "name": "python",
   "nbconvert_exporter": "python",
   "pygments_lexer": "ipython3",
   "version": "3.10.11"
  }
 },
 "nbformat": 4,
 "nbformat_minor": 5
}

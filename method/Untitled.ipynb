{
 "cells": [
  {
   "cell_type": "code",
   "execution_count": 2,
   "id": "11322ee1-ae12-4915-b78d-32b47ab9b7ba",
   "metadata": {},
   "outputs": [],
   "source": [
    "import os\n",
    "import numpy as np"
   ]
  },
  {
   "cell_type": "code",
   "execution_count": 4,
   "id": "ed6eb157-c51a-412d-ab48-0dd6cdb1e858",
   "metadata": {},
   "outputs": [],
   "source": [
    "all_path = '../SLR_dataset/seq_txt'"
   ]
  },
  {
   "cell_type": "code",
   "execution_count": 10,
   "id": "81d7d69b-f46d-4535-bd57-b527ab670fe7",
   "metadata": {},
   "outputs": [],
   "source": [
    "folder_list = os.listdir(all_path)"
   ]
  },
  {
   "cell_type": "code",
   "execution_count": 14,
   "id": "a0432a2c-3a87-48b9-b7be-f946a208d268",
   "metadata": {},
   "outputs": [],
   "source": [
    "folder_list = [os.path.join(all_path,i) for i in folder_list]"
   ]
  },
  {
   "cell_type": "code",
   "execution_count": 18,
   "id": "0ffced9f-e720-43ed-987e-28437c31580e",
   "metadata": {},
   "outputs": [],
   "source": [
    "def left_right_hand(data):\n",
    "    left = data[0:63]\n",
    "    right = data [63:]\n",
    "    return left,right"
   ]
  },
  {
   "cell_type": "code",
   "execution_count": 29,
   "id": "6da82f14-116f-4625-adc6-64471815e95e",
   "metadata": {},
   "outputs": [],
   "source": [
    "def list_proLR(data):\n",
    "    #该函数用于将读取到的数据变成左右手格式\n",
    "    result = []\n",
    "    for i in data:\n",
    "        left,right = left_right_hand(i)\n",
    "        result.append(left)\n",
    "        result.append(right)\n",
    "    return result"
   ]
  },
  {
   "cell_type": "code",
   "execution_count": 39,
   "id": "e459b313-a554-4dfc-8853-29d9566eba98",
   "metadata": {},
   "outputs": [],
   "source": [
    "all_data = []\n",
    "for folder in folder_list:\n",
    "    data_list = [os.path.join(folder,filename) for filename in os.listdir(folder) if filename.endswith('.avi')]\n",
    "    for file in data_list:\n",
    "        # print(file)\n",
    "        data = []\n",
    "        with open(file,'r') as f:\n",
    "            for line in f:\n",
    "                float_values = [float(x) for x in line.split()]\n",
    "                data.append(float_values)\n",
    "        # print(len(data)) #二维数组 帧*126\n",
    "        # print(data[0:10])\n",
    "        all_data += list_proLR(data) #三维数组 帧*2*63"
   ]
  },
  {
   "cell_type": "code",
   "execution_count": 47,
   "id": "2b898038-7a68-432d-beba-b685cf5f3ee3",
   "metadata": {},
   "outputs": [
    {
     "ename": "KeyboardInterrupt",
     "evalue": "",
     "output_type": "error",
     "traceback": [
      "\u001b[1;31m---------------------------------------------------------------------------\u001b[0m",
      "\u001b[1;31mKeyboardInterrupt\u001b[0m                         Traceback (most recent call last)",
      "\u001b[1;31mKeyboardInterrupt\u001b[0m: "
     ]
    }
   ],
   "source": [
    "all_data=np.array(all_data)"
   ]
  },
  {
   "cell_type": "code",
   "execution_count": null,
   "id": "5921fe3b-a619-42cc-b29c-8d6447729e86",
   "metadata": {},
   "outputs": [],
   "source": []
  }
 ],
 "metadata": {
  "kernelspec": {
   "display_name": "Python [conda env:base] *",
   "language": "python",
   "name": "conda-base-py"
  },
  "language_info": {
   "codemirror_mode": {
    "name": "ipython",
    "version": 3
   },
   "file_extension": ".py",
   "mimetype": "text/x-python",
   "name": "python",
   "nbconvert_exporter": "python",
   "pygments_lexer": "ipython3",
   "version": "3.12.7"
  }
 },
 "nbformat": 4,
 "nbformat_minor": 5
}
